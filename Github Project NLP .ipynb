{
 "cells": [
  {
   "cell_type": "markdown",
   "id": "db195e26",
   "metadata": {},
   "source": [
    "# A company has launched the product, people are using it and giving comments. Company want to know the sentiment  status of comments/review about Positive , Negative or Neutral."
   ]
  },
  {
   "cell_type": "code",
   "execution_count": 1,
   "id": "e55e978b",
   "metadata": {},
   "outputs": [],
   "source": [
    "import pandas as pd\n",
    "import numpy as np\n",
    "import nltk # natual language toolkit"
   ]
  },
  {
   "cell_type": "code",
   "execution_count": 2,
   "id": "4ff92409",
   "metadata": {},
   "outputs": [],
   "source": [
    "#vader it is pretrained for sentiment analysis"
   ]
  },
  {
   "cell_type": "code",
   "execution_count": 3,
   "id": "ecd5300c",
   "metadata": {},
   "outputs": [],
   "source": [
    "import nltk"
   ]
  },
  {
   "cell_type": "code",
   "execution_count": 4,
   "id": "36322738",
   "metadata": {},
   "outputs": [],
   "source": [
    "from nltk.sentiment.vader import SentimentIntensityAnalyzer\n",
    "sent=SentimentIntensityAnalyzer() #object"
   ]
  },
  {
   "cell_type": "code",
   "execution_count": 6,
   "id": "6f8c4369",
   "metadata": {},
   "outputs": [],
   "source": [
    "#compund would from-1 to  +1\n",
    "#  where - indicates -ve sentiment and + ve indicates +ve sentiment"
   ]
  },
  {
   "cell_type": "code",
   "execution_count": null,
   "id": "a609da88",
   "metadata": {},
   "outputs": [],
   "source": []
  },
  {
   "cell_type": "code",
   "execution_count": 7,
   "id": "ef858686",
   "metadata": {},
   "outputs": [],
   "source": [
    "ta= pd.read_csv(r\"F:\\Imaticus\\Data set\\AmazonFoodReviews.csv\")\n"
   ]
  },
  {
   "cell_type": "code",
   "execution_count": 8,
   "id": "69cf333f",
   "metadata": {},
   "outputs": [
    {
     "data": {
      "text/plain": [
       "(568454, 10)"
      ]
     },
     "execution_count": 8,
     "metadata": {},
     "output_type": "execute_result"
    }
   ],
   "source": [
    "ta.shape"
   ]
  },
  {
   "cell_type": "code",
   "execution_count": 9,
   "id": "e2754d4f",
   "metadata": {},
   "outputs": [
    {
     "data": {
      "text/html": [
       "<div>\n",
       "<style scoped>\n",
       "    .dataframe tbody tr th:only-of-type {\n",
       "        vertical-align: middle;\n",
       "    }\n",
       "\n",
       "    .dataframe tbody tr th {\n",
       "        vertical-align: top;\n",
       "    }\n",
       "\n",
       "    .dataframe thead th {\n",
       "        text-align: right;\n",
       "    }\n",
       "</style>\n",
       "<table border=\"1\" class=\"dataframe\">\n",
       "  <thead>\n",
       "    <tr style=\"text-align: right;\">\n",
       "      <th></th>\n",
       "      <th>Id</th>\n",
       "      <th>ProductId</th>\n",
       "      <th>UserId</th>\n",
       "      <th>ProfileName</th>\n",
       "      <th>HelpfulnessNumerator</th>\n",
       "      <th>HelpfulnessDenominator</th>\n",
       "      <th>Score</th>\n",
       "      <th>Time</th>\n",
       "      <th>Summary</th>\n",
       "      <th>Text</th>\n",
       "    </tr>\n",
       "  </thead>\n",
       "  <tbody>\n",
       "    <tr>\n",
       "      <th>0</th>\n",
       "      <td>1</td>\n",
       "      <td>B001E4KFG0</td>\n",
       "      <td>A3SGXH7AUHU8GW</td>\n",
       "      <td>delmartian</td>\n",
       "      <td>1</td>\n",
       "      <td>1</td>\n",
       "      <td>5</td>\n",
       "      <td>1303862400</td>\n",
       "      <td>Good Quality Dog Food</td>\n",
       "      <td>I have bought several of the Vitality canned d...</td>\n",
       "    </tr>\n",
       "    <tr>\n",
       "      <th>1</th>\n",
       "      <td>2</td>\n",
       "      <td>B00813GRG4</td>\n",
       "      <td>A1D87F6ZCVE5NK</td>\n",
       "      <td>dll pa</td>\n",
       "      <td>0</td>\n",
       "      <td>0</td>\n",
       "      <td>1</td>\n",
       "      <td>1346976000</td>\n",
       "      <td>Not as Advertised</td>\n",
       "      <td>Product arrived labeled as Jumbo Salted Peanut...</td>\n",
       "    </tr>\n",
       "    <tr>\n",
       "      <th>2</th>\n",
       "      <td>3</td>\n",
       "      <td>B000LQOCH0</td>\n",
       "      <td>ABXLMWJIXXAIN</td>\n",
       "      <td>Natalia Corres \"Natalia Corres\"</td>\n",
       "      <td>1</td>\n",
       "      <td>1</td>\n",
       "      <td>4</td>\n",
       "      <td>1219017600</td>\n",
       "      <td>\"Delight\" says it all</td>\n",
       "      <td>This is a confection that has been around a fe...</td>\n",
       "    </tr>\n",
       "    <tr>\n",
       "      <th>3</th>\n",
       "      <td>4</td>\n",
       "      <td>B000UA0QIQ</td>\n",
       "      <td>A395BORC6FGVXV</td>\n",
       "      <td>Karl</td>\n",
       "      <td>3</td>\n",
       "      <td>3</td>\n",
       "      <td>2</td>\n",
       "      <td>1307923200</td>\n",
       "      <td>Cough Medicine</td>\n",
       "      <td>If you are looking for the secret ingredient i...</td>\n",
       "    </tr>\n",
       "    <tr>\n",
       "      <th>4</th>\n",
       "      <td>5</td>\n",
       "      <td>B006K2ZZ7K</td>\n",
       "      <td>A1UQRSCLF8GW1T</td>\n",
       "      <td>Michael D. Bigham \"M. Wassir\"</td>\n",
       "      <td>0</td>\n",
       "      <td>0</td>\n",
       "      <td>5</td>\n",
       "      <td>1350777600</td>\n",
       "      <td>Great taffy</td>\n",
       "      <td>Great taffy at a great price.  There was a wid...</td>\n",
       "    </tr>\n",
       "  </tbody>\n",
       "</table>\n",
       "</div>"
      ],
      "text/plain": [
       "   Id   ProductId          UserId                      ProfileName  \\\n",
       "0   1  B001E4KFG0  A3SGXH7AUHU8GW                       delmartian   \n",
       "1   2  B00813GRG4  A1D87F6ZCVE5NK                           dll pa   \n",
       "2   3  B000LQOCH0   ABXLMWJIXXAIN  Natalia Corres \"Natalia Corres\"   \n",
       "3   4  B000UA0QIQ  A395BORC6FGVXV                             Karl   \n",
       "4   5  B006K2ZZ7K  A1UQRSCLF8GW1T    Michael D. Bigham \"M. Wassir\"   \n",
       "\n",
       "   HelpfulnessNumerator  HelpfulnessDenominator  Score        Time  \\\n",
       "0                     1                       1      5  1303862400   \n",
       "1                     0                       0      1  1346976000   \n",
       "2                     1                       1      4  1219017600   \n",
       "3                     3                       3      2  1307923200   \n",
       "4                     0                       0      5  1350777600   \n",
       "\n",
       "                 Summary                                               Text  \n",
       "0  Good Quality Dog Food  I have bought several of the Vitality canned d...  \n",
       "1      Not as Advertised  Product arrived labeled as Jumbo Salted Peanut...  \n",
       "2  \"Delight\" says it all  This is a confection that has been around a fe...  \n",
       "3         Cough Medicine  If you are looking for the secret ingredient i...  \n",
       "4            Great taffy  Great taffy at a great price.  There was a wid...  "
      ]
     },
     "execution_count": 9,
     "metadata": {},
     "output_type": "execute_result"
    }
   ],
   "source": [
    "ta.head() "
   ]
  },
  {
   "cell_type": "code",
   "execution_count": 10,
   "id": "73f27f53",
   "metadata": {},
   "outputs": [
    {
     "data": {
      "text/plain": [
       "Index(['Id', 'ProductId', 'UserId', 'ProfileName', 'HelpfulnessNumerator',\n",
       "       'HelpfulnessDenominator', 'Score', 'Time', 'Summary', 'Text'],\n",
       "      dtype='object')"
      ]
     },
     "execution_count": 10,
     "metadata": {},
     "output_type": "execute_result"
    }
   ],
   "source": [
    "ta.columns"
   ]
  },
  {
   "cell_type": "code",
   "execution_count": 11,
   "id": "2336385c",
   "metadata": {},
   "outputs": [],
   "source": [
    "ta = ta.loc[:, ['Text']]\n"
   ]
  },
  {
   "cell_type": "code",
   "execution_count": 12,
   "id": "ac1ac860",
   "metadata": {},
   "outputs": [
    {
     "data": {
      "text/html": [
       "<div>\n",
       "<style scoped>\n",
       "    .dataframe tbody tr th:only-of-type {\n",
       "        vertical-align: middle;\n",
       "    }\n",
       "\n",
       "    .dataframe tbody tr th {\n",
       "        vertical-align: top;\n",
       "    }\n",
       "\n",
       "    .dataframe thead th {\n",
       "        text-align: right;\n",
       "    }\n",
       "</style>\n",
       "<table border=\"1\" class=\"dataframe\">\n",
       "  <thead>\n",
       "    <tr style=\"text-align: right;\">\n",
       "      <th></th>\n",
       "      <th>Text</th>\n",
       "    </tr>\n",
       "  </thead>\n",
       "  <tbody>\n",
       "    <tr>\n",
       "      <th>0</th>\n",
       "      <td>I have bought several of the Vitality canned d...</td>\n",
       "    </tr>\n",
       "    <tr>\n",
       "      <th>1</th>\n",
       "      <td>Product arrived labeled as Jumbo Salted Peanut...</td>\n",
       "    </tr>\n",
       "    <tr>\n",
       "      <th>2</th>\n",
       "      <td>This is a confection that has been around a fe...</td>\n",
       "    </tr>\n",
       "    <tr>\n",
       "      <th>3</th>\n",
       "      <td>If you are looking for the secret ingredient i...</td>\n",
       "    </tr>\n",
       "    <tr>\n",
       "      <th>4</th>\n",
       "      <td>Great taffy at a great price.  There was a wid...</td>\n",
       "    </tr>\n",
       "  </tbody>\n",
       "</table>\n",
       "</div>"
      ],
      "text/plain": [
       "                                                Text\n",
       "0  I have bought several of the Vitality canned d...\n",
       "1  Product arrived labeled as Jumbo Salted Peanut...\n",
       "2  This is a confection that has been around a fe...\n",
       "3  If you are looking for the secret ingredient i...\n",
       "4  Great taffy at a great price.  There was a wid..."
      ]
     },
     "execution_count": 12,
     "metadata": {},
     "output_type": "execute_result"
    }
   ],
   "source": [
    "ta.head() "
   ]
  },
  {
   "cell_type": "markdown",
   "id": "80e89d02",
   "metadata": {},
   "source": [
    "# Sentiment Analysis"
   ]
  },
  {
   "cell_type": "code",
   "execution_count": 13,
   "id": "3257f0f4",
   "metadata": {},
   "outputs": [],
   "source": [
    "sentiment=[] #empty list\n",
    "for comment in ta['Text']:\n",
    "    var1=sent.polarity_scores(comment)  #storing in var1\n",
    "    sentiment.append(var1['compound'])"
   ]
  },
  {
   "cell_type": "code",
   "execution_count": 14,
   "id": "a9ca4fc5",
   "metadata": {},
   "outputs": [],
   "source": [
    "ta['sentiment']=sentiment"
   ]
  },
  {
   "cell_type": "code",
   "execution_count": null,
   "id": "f9c3aa44",
   "metadata": {},
   "outputs": [],
   "source": []
  },
  {
   "cell_type": "code",
   "execution_count": 15,
   "id": "4b0a7749",
   "metadata": {},
   "outputs": [
    {
     "data": {
      "text/plain": [
       "(568454, 2)"
      ]
     },
     "execution_count": 15,
     "metadata": {},
     "output_type": "execute_result"
    }
   ],
   "source": [
    "ta.shape"
   ]
  },
  {
   "cell_type": "code",
   "execution_count": 16,
   "id": "bbef78ac",
   "metadata": {},
   "outputs": [
    {
     "data": {
      "text/plain": [
       "568454"
      ]
     },
     "execution_count": 16,
     "metadata": {},
     "output_type": "execute_result"
    }
   ],
   "source": [
    "len(sentiment)"
   ]
  },
  {
   "cell_type": "code",
   "execution_count": 17,
   "id": "e7b8c6bf",
   "metadata": {},
   "outputs": [
    {
     "data": {
      "text/html": [
       "<div>\n",
       "<style scoped>\n",
       "    .dataframe tbody tr th:only-of-type {\n",
       "        vertical-align: middle;\n",
       "    }\n",
       "\n",
       "    .dataframe tbody tr th {\n",
       "        vertical-align: top;\n",
       "    }\n",
       "\n",
       "    .dataframe thead th {\n",
       "        text-align: right;\n",
       "    }\n",
       "</style>\n",
       "<table border=\"1\" class=\"dataframe\">\n",
       "  <thead>\n",
       "    <tr style=\"text-align: right;\">\n",
       "      <th></th>\n",
       "      <th>Text</th>\n",
       "      <th>sentiment</th>\n",
       "    </tr>\n",
       "  </thead>\n",
       "  <tbody>\n",
       "    <tr>\n",
       "      <th>0</th>\n",
       "      <td>I have bought several of the Vitality canned d...</td>\n",
       "      <td>0.9441</td>\n",
       "    </tr>\n",
       "    <tr>\n",
       "      <th>1</th>\n",
       "      <td>Product arrived labeled as Jumbo Salted Peanut...</td>\n",
       "      <td>-0.5664</td>\n",
       "    </tr>\n",
       "    <tr>\n",
       "      <th>2</th>\n",
       "      <td>This is a confection that has been around a fe...</td>\n",
       "      <td>0.8265</td>\n",
       "    </tr>\n",
       "    <tr>\n",
       "      <th>3</th>\n",
       "      <td>If you are looking for the secret ingredient i...</td>\n",
       "      <td>0.0000</td>\n",
       "    </tr>\n",
       "    <tr>\n",
       "      <th>4</th>\n",
       "      <td>Great taffy at a great price.  There was a wid...</td>\n",
       "      <td>0.9468</td>\n",
       "    </tr>\n",
       "  </tbody>\n",
       "</table>\n",
       "</div>"
      ],
      "text/plain": [
       "                                                Text  sentiment\n",
       "0  I have bought several of the Vitality canned d...     0.9441\n",
       "1  Product arrived labeled as Jumbo Salted Peanut...    -0.5664\n",
       "2  This is a confection that has been around a fe...     0.8265\n",
       "3  If you are looking for the secret ingredient i...     0.0000\n",
       "4  Great taffy at a great price.  There was a wid...     0.9468"
      ]
     },
     "execution_count": 17,
     "metadata": {},
     "output_type": "execute_result"
    }
   ],
   "source": [
    "ta.head()"
   ]
  },
  {
   "cell_type": "code",
   "execution_count": 18,
   "id": "ad12d4f7",
   "metadata": {},
   "outputs": [
    {
     "data": {
      "text/plain": [
       "count    568454.000000\n",
       "mean          0.647316\n",
       "std           0.466244\n",
       "min          -0.999400\n",
       "25%           0.576400\n",
       "50%           0.854600\n",
       "75%           0.942100\n",
       "max           0.999900\n",
       "Name: sentiment, dtype: float64"
      ]
     },
     "execution_count": 18,
     "metadata": {},
     "output_type": "execute_result"
    }
   ],
   "source": [
    "ta.sentiment.describe()"
   ]
  },
  {
   "cell_type": "code",
   "execution_count": 19,
   "id": "c188ea83",
   "metadata": {},
   "outputs": [
    {
     "data": {
      "text/plain": [
       "count    568454.000000\n",
       "mean          0.647316\n",
       "std           0.466244\n",
       "min          -0.999400\n",
       "10%          -0.101000\n",
       "20%           0.440400\n",
       "30%           0.669600\n",
       "40%           0.788400\n",
       "50%           0.854600\n",
       "60%           0.897900\n",
       "70%           0.928700\n",
       "80%           0.953800\n",
       "90%           0.974800\n",
       "100%          0.999900\n",
       "max           0.999900\n",
       "Name: sentiment, dtype: float64"
      ]
     },
     "execution_count": 19,
     "metadata": {},
     "output_type": "execute_result"
    }
   ],
   "source": [
    "\n",
    "ta.sentiment.describe(percentiles=[.1,.2,.3,.4,.5,.6,.7,.8,.9,1])\n"
   ]
  },
  {
   "cell_type": "code",
   "execution_count": 20,
   "id": "45bedc5b",
   "metadata": {},
   "outputs": [
    {
     "data": {
      "text/plain": [
       "(61404, 2)"
      ]
     },
     "execution_count": 20,
     "metadata": {},
     "output_type": "execute_result"
    }
   ],
   "source": [
    "ta[ta.sentiment<0].shape"
   ]
  },
  {
   "cell_type": "code",
   "execution_count": 21,
   "id": "b9eb3338",
   "metadata": {},
   "outputs": [
    {
     "data": {
      "text/plain": [
       "(499075, 2)"
      ]
     },
     "execution_count": 21,
     "metadata": {},
     "output_type": "execute_result"
    }
   ],
   "source": [
    "ta[ta.sentiment>0].shape"
   ]
  },
  {
   "cell_type": "code",
   "execution_count": null,
   "id": "ffa60183",
   "metadata": {},
   "outputs": [],
   "source": []
  },
  {
   "cell_type": "code",
   "execution_count": 22,
   "id": "4a791ec6",
   "metadata": {},
   "outputs": [],
   "source": [
    "analysis = [] # make a new empty list \n",
    "i=0\n",
    "for i in range(len(ta.sentiment)):\n",
    "    if ta['sentiment'][i] < 0:\n",
    "        analysis.append('Negative')\n",
    "    elif ta['sentiment'][i] > 0:\n",
    "        analysis.append('Positive')\n",
    "\n",
    "    else:\n",
    "        analysis.append('Neuteral')\n",
    "\n",
    "ta['SentimentAnalysis'] = analysis"
   ]
  },
  {
   "cell_type": "code",
   "execution_count": null,
   "id": "9a576219",
   "metadata": {},
   "outputs": [],
   "source": []
  },
  {
   "cell_type": "code",
   "execution_count": 24,
   "id": "f4ae3424",
   "metadata": {},
   "outputs": [],
   "source": [
    "ta = ta.loc[:, ['Text','SentimentAnalysis']]\n"
   ]
  },
  {
   "cell_type": "code",
   "execution_count": 25,
   "id": "0a44cf31",
   "metadata": {},
   "outputs": [
    {
     "data": {
      "text/html": [
       "<div>\n",
       "<style scoped>\n",
       "    .dataframe tbody tr th:only-of-type {\n",
       "        vertical-align: middle;\n",
       "    }\n",
       "\n",
       "    .dataframe tbody tr th {\n",
       "        vertical-align: top;\n",
       "    }\n",
       "\n",
       "    .dataframe thead th {\n",
       "        text-align: right;\n",
       "    }\n",
       "</style>\n",
       "<table border=\"1\" class=\"dataframe\">\n",
       "  <thead>\n",
       "    <tr style=\"text-align: right;\">\n",
       "      <th></th>\n",
       "      <th>Text</th>\n",
       "      <th>SentimentAnalysis</th>\n",
       "    </tr>\n",
       "  </thead>\n",
       "  <tbody>\n",
       "    <tr>\n",
       "      <th>0</th>\n",
       "      <td>I have bought several of the Vitality canned d...</td>\n",
       "      <td>Positive</td>\n",
       "    </tr>\n",
       "    <tr>\n",
       "      <th>1</th>\n",
       "      <td>Product arrived labeled as Jumbo Salted Peanut...</td>\n",
       "      <td>Negative</td>\n",
       "    </tr>\n",
       "    <tr>\n",
       "      <th>2</th>\n",
       "      <td>This is a confection that has been around a fe...</td>\n",
       "      <td>Positive</td>\n",
       "    </tr>\n",
       "    <tr>\n",
       "      <th>3</th>\n",
       "      <td>If you are looking for the secret ingredient i...</td>\n",
       "      <td>Neuteral</td>\n",
       "    </tr>\n",
       "    <tr>\n",
       "      <th>4</th>\n",
       "      <td>Great taffy at a great price.  There was a wid...</td>\n",
       "      <td>Positive</td>\n",
       "    </tr>\n",
       "  </tbody>\n",
       "</table>\n",
       "</div>"
      ],
      "text/plain": [
       "                                                Text SentimentAnalysis\n",
       "0  I have bought several of the Vitality canned d...          Positive\n",
       "1  Product arrived labeled as Jumbo Salted Peanut...          Negative\n",
       "2  This is a confection that has been around a fe...          Positive\n",
       "3  If you are looking for the secret ingredient i...          Neuteral\n",
       "4  Great taffy at a great price.  There was a wid...          Positive"
      ]
     },
     "execution_count": 25,
     "metadata": {},
     "output_type": "execute_result"
    }
   ],
   "source": [
    "ta.head()"
   ]
  },
  {
   "cell_type": "code",
   "execution_count": 26,
   "id": "8b2a3189",
   "metadata": {},
   "outputs": [
    {
     "data": {
      "text/plain": [
       "Positive    499075\n",
       "Negative     61404\n",
       "Neuteral      7975\n",
       "Name: SentimentAnalysis, dtype: int64"
      ]
     },
     "execution_count": 26,
     "metadata": {},
     "output_type": "execute_result"
    }
   ],
   "source": [
    "ta['SentimentAnalysis'].value_counts()"
   ]
  },
  {
   "cell_type": "code",
   "execution_count": 27,
   "id": "3827abfb",
   "metadata": {},
   "outputs": [],
   "source": [
    "ta['SentimentAnalysis'].replace({'Positive':2 , 'Negative':1 , 'Neuteral':0} , inplace= True)\n"
   ]
  },
  {
   "cell_type": "code",
   "execution_count": null,
   "id": "6b648de9",
   "metadata": {},
   "outputs": [],
   "source": []
  },
  {
   "cell_type": "code",
   "execution_count": 28,
   "id": "9858727c",
   "metadata": {},
   "outputs": [],
   "source": [
    "from nltk.corpus import stopwords\n",
    "abcd = stopwords.words('english')"
   ]
  },
  {
   "cell_type": "code",
   "execution_count": 29,
   "id": "cd28d3e8",
   "metadata": {},
   "outputs": [],
   "source": [
    "import string"
   ]
  },
  {
   "cell_type": "code",
   "execution_count": 30,
   "id": "25642eba",
   "metadata": {},
   "outputs": [],
   "source": [
    "xyz=string.punctuation"
   ]
  },
  {
   "cell_type": "code",
   "execution_count": 31,
   "id": "bb7765eb",
   "metadata": {},
   "outputs": [],
   "source": [
    "def text_process(mess):            ### creating a function\n",
    "    \"\"\"                                                        ## a docstring\n",
    "    1. remove the punctuation\n",
    "    2. remove the stopwords\n",
    "    3. return the list of clean textwords\n",
    "    \n",
    "    \"\"\"\n",
    "    nopunc = [char for char in mess if char not in xyz]\n",
    "    nopunc = \"\".join(nopunc)\n",
    "    \n",
    "    return [ word for word in nopunc.split() if word not in abcd]"
   ]
  },
  {
   "cell_type": "code",
   "execution_count": 32,
   "id": "69ae4295",
   "metadata": {},
   "outputs": [],
   "source": [
    "ta.Text=ta.Text.str.lower()"
   ]
  },
  {
   "cell_type": "code",
   "execution_count": 33,
   "id": "e6a4d138",
   "metadata": {},
   "outputs": [],
   "source": [
    "from sklearn.feature_extraction.text import CountVectorizer\n",
    "\n",
    "# TDM - I need count of each & every word\n",
    "# CountVectorizer used to get count of each unique word\n",
    "# count is needed after removing punctuation & stopwords"
   ]
  },
  {
   "cell_type": "code",
   "execution_count": 34,
   "id": "d300ec90",
   "metadata": {},
   "outputs": [
    {
     "name": "stdout",
     "output_type": "stream",
     "text": [
      "400.6111686229706\n"
     ]
    }
   ],
   "source": [
    "import time\n",
    "\n",
    "start = time.time() # Get the current time\n",
    "\n",
    "bow_transformer =    CountVectorizer(analyzer = text_process   ).fit(ta.Text)\n",
    "\n",
    "end = time.time() # get the current time\n",
    "print(end - start)"
   ]
  },
  {
   "cell_type": "code",
   "execution_count": 35,
   "id": "f0f95d68",
   "metadata": {},
   "outputs": [
    {
     "data": {
      "text/plain": [
       "240626"
      ]
     },
     "execution_count": 35,
     "metadata": {},
     "output_type": "execute_result"
    }
   ],
   "source": [
    "len(bow_transformer.vocabulary_)\n"
   ]
  },
  {
   "cell_type": "code",
   "execution_count": 36,
   "id": "feb38ce0",
   "metadata": {},
   "outputs": [],
   "source": [
    "tdm = bow_transformer.transform(ta[\"Text\"])"
   ]
  },
  {
   "cell_type": "code",
   "execution_count": 37,
   "id": "b9cd8f52",
   "metadata": {},
   "outputs": [
    {
     "data": {
      "text/plain": [
       "(568454, 240626)"
      ]
     },
     "execution_count": 37,
     "metadata": {},
     "output_type": "execute_result"
    }
   ],
   "source": [
    "tdm.shape"
   ]
  },
  {
   "cell_type": "code",
   "execution_count": 38,
   "id": "b9b9618e",
   "metadata": {},
   "outputs": [
    {
     "data": {
      "text/plain": [
       "scipy.sparse.csr.csr_matrix"
      ]
     },
     "execution_count": 38,
     "metadata": {},
     "output_type": "execute_result"
    }
   ],
   "source": [
    "type(tdm) # SPARSE matrix"
   ]
  },
  {
   "cell_type": "code",
   "execution_count": 39,
   "id": "8778151a",
   "metadata": {},
   "outputs": [],
   "source": [
    "tdm1=tdm.copy()"
   ]
  },
  {
   "cell_type": "code",
   "execution_count": null,
   "id": "3c03605f",
   "metadata": {},
   "outputs": [],
   "source": []
  },
  {
   "cell_type": "code",
   "execution_count": 87,
   "id": "6f5abdee",
   "metadata": {},
   "outputs": [],
   "source": [
    "tdm=tdm1"
   ]
  },
  {
   "cell_type": "markdown",
   "id": "0754d317",
   "metadata": {},
   "source": [
    "# Sampling"
   ]
  },
  {
   "cell_type": "code",
   "execution_count": 88,
   "id": "a43c0b9e",
   "metadata": {},
   "outputs": [],
   "source": [
    "from sklearn.model_selection import train_test_split"
   ]
  },
  {
   "cell_type": "code",
   "execution_count": 89,
   "id": "370e64dc",
   "metadata": {},
   "outputs": [],
   "source": [
    "x_train, x_test, y_train, y_test = train_test_split( tdm,ta['SentimentAnalysis'] ,test_size=.2)"
   ]
  },
  {
   "cell_type": "code",
   "execution_count": 93,
   "id": "cb171263",
   "metadata": {},
   "outputs": [
    {
     "name": "stdout",
     "output_type": "stream",
     "text": [
      "(454763, 240626)\n",
      "(454763,)\n",
      "----\n",
      "(113691, 240626)\n",
      "(113691,)\n"
     ]
    }
   ],
   "source": [
    "print(x_train.shape)\n",
    "print(y_train.shape)\n",
    "print(\"----\")\n",
    "print(x_test.shape)\n",
    "print(y_test.shape)"
   ]
  },
  {
   "cell_type": "markdown",
   "id": "a9745cb8",
   "metadata": {},
   "source": [
    "# Naive Bayes"
   ]
  },
  {
   "cell_type": "code",
   "execution_count": 46,
   "id": "097d7543",
   "metadata": {},
   "outputs": [],
   "source": [
    "from sklearn.naive_bayes import MultinomialNB"
   ]
  },
  {
   "cell_type": "code",
   "execution_count": 47,
   "id": "0ab7866f",
   "metadata": {},
   "outputs": [],
   "source": [
    "nb_model = MultinomialNB()"
   ]
  },
  {
   "cell_type": "code",
   "execution_count": 48,
   "id": "84221cd9",
   "metadata": {},
   "outputs": [
    {
     "data": {
      "text/plain": [
       "MultinomialNB()"
      ]
     },
     "execution_count": 48,
     "metadata": {},
     "output_type": "execute_result"
    }
   ],
   "source": [
    "nb_model.fit(x_train, y_train)"
   ]
  },
  {
   "cell_type": "code",
   "execution_count": 49,
   "id": "047875cb",
   "metadata": {},
   "outputs": [],
   "source": [
    "pred = nb_model.predict(x_test)"
   ]
  },
  {
   "cell_type": "code",
   "execution_count": 50,
   "id": "a8150bb3",
   "metadata": {},
   "outputs": [],
   "source": [
    "from sklearn.metrics import confusion_matrix"
   ]
  },
  {
   "cell_type": "code",
   "execution_count": 51,
   "id": "eecd58b9",
   "metadata": {},
   "outputs": [],
   "source": [
    "tab =  confusion_matrix(y_test , pred)"
   ]
  },
  {
   "cell_type": "code",
   "execution_count": 52,
   "id": "9c1227c8",
   "metadata": {},
   "outputs": [
    {
     "data": {
      "text/plain": [
       "array([[   61,   322,  1233],\n",
       "       [    6,  5829,  6480],\n",
       "       [   26,  4658, 95076]], dtype=int64)"
      ]
     },
     "execution_count": 52,
     "metadata": {},
     "output_type": "execute_result"
    }
   ],
   "source": [
    "tab"
   ]
  },
  {
   "cell_type": "code",
   "execution_count": 53,
   "id": "cbde08b9",
   "metadata": {},
   "outputs": [
    {
     "data": {
      "text/plain": [
       "88.80738141101759"
      ]
     },
     "execution_count": 53,
     "metadata": {},
     "output_type": "execute_result"
    }
   ],
   "source": [
    "tab.diagonal().sum() * 100 / tab.sum()"
   ]
  },
  {
   "cell_type": "code",
   "execution_count": 54,
   "id": "59244911",
   "metadata": {},
   "outputs": [],
   "source": [
    "from sklearn.metrics import classification_report"
   ]
  },
  {
   "cell_type": "code",
   "execution_count": 55,
   "id": "7d7a5077",
   "metadata": {},
   "outputs": [
    {
     "name": "stdout",
     "output_type": "stream",
     "text": [
      "              precision    recall  f1-score   support\n",
      "\n",
      "           0       0.66      0.04      0.07      1616\n",
      "           1       0.54      0.47      0.50     12315\n",
      "           2       0.92      0.95      0.94     99760\n",
      "\n",
      "    accuracy                           0.89    113691\n",
      "   macro avg       0.71      0.49      0.50    113691\n",
      "weighted avg       0.88      0.89      0.88    113691\n",
      "\n"
     ]
    }
   ],
   "source": [
    "print(classification_report(y_test,pred))"
   ]
  },
  {
   "cell_type": "code",
   "execution_count": null,
   "id": "ea902f23",
   "metadata": {},
   "outputs": [],
   "source": [
    "#Model is Not performaning well for class 1 , so checking for class imbalance problem."
   ]
  },
  {
   "cell_type": "markdown",
   "id": "b1496727",
   "metadata": {},
   "source": [
    "# Class Imbalance"
   ]
  },
  {
   "cell_type": "code",
   "execution_count": 56,
   "id": "bd8af7e5",
   "metadata": {},
   "outputs": [
    {
     "name": "stdout",
     "output_type": "stream",
     "text": [
      "Before OverSampling, counts of label 'Positive': 399315\n",
      "Before OverSampling, counts of label 'Negative': 49089 \n",
      "\n",
      "Before OverSampling, counts of label 'Neuteral': 6359 \n",
      "\n"
     ]
    }
   ],
   "source": [
    "print(\"Before OverSampling, counts of label 'Positive': {}\".format(sum(y_train == 2)))\n",
    "print(\"Before OverSampling, counts of label 'Negative': {} \\n\".format(sum(y_train  == 1)))\n",
    "print(\"Before OverSampling, counts of label 'Neuteral': {} \\n\".format(sum(y_train  == 0)))\n"
   ]
  },
  {
   "cell_type": "code",
   "execution_count": null,
   "id": "8fc692c7",
   "metadata": {},
   "outputs": [],
   "source": [
    "#class imbalance problem exists."
   ]
  },
  {
   "cell_type": "code",
   "execution_count": null,
   "id": "e659c1f3",
   "metadata": {},
   "outputs": [],
   "source": []
  },
  {
   "cell_type": "markdown",
   "id": "d55e24df",
   "metadata": {},
   "source": [
    "# Oversampling using Smote"
   ]
  },
  {
   "cell_type": "code",
   "execution_count": 52,
   "id": "87a7766b",
   "metadata": {},
   "outputs": [],
   "source": [
    "#pip install imblearn"
   ]
  },
  {
   "cell_type": "code",
   "execution_count": null,
   "id": "790fb053",
   "metadata": {},
   "outputs": [],
   "source": []
  },
  {
   "cell_type": "code",
   "execution_count": null,
   "id": "7044c4fd",
   "metadata": {},
   "outputs": [],
   "source": [
    "# import SMOTE module from imblearn library\n",
    "# pip install imblearn (if you don't have imblearn in your system)"
   ]
  },
  {
   "cell_type": "code",
   "execution_count": 97,
   "id": "24bc7a46",
   "metadata": {},
   "outputs": [],
   "source": [
    "from imblearn.over_sampling import SMOTE\n",
    "sm = SMOTE(k_neighbors=1)"
   ]
  },
  {
   "cell_type": "code",
   "execution_count": 98,
   "id": "4207400e",
   "metadata": {},
   "outputs": [],
   "source": [
    "x_train_res, y_train_res = sm.fit_resample(x_train, y_train)\n",
    "  "
   ]
  },
  {
   "cell_type": "code",
   "execution_count": 99,
   "id": "32d80738",
   "metadata": {},
   "outputs": [
    {
     "name": "stdout",
     "output_type": "stream",
     "text": [
      "After OverSampling, counts of label 'Positive': 399249\n",
      "After OverSampling, counts of label 'Negative': 399249 \n",
      "\n",
      "After OverSampling, counts of label 'Neuteral': 399249 \n",
      "\n"
     ]
    }
   ],
   "source": [
    "print(\"After OverSampling, counts of label 'Positive': {}\".format(sum(y_train_res == 2)))\n",
    "print(\"After OverSampling, counts of label 'Negative': {} \\n\".format(sum(y_train_res == 1)))\n",
    "print(\"After OverSampling, counts of label 'Neuteral': {} \\n\".format(sum(y_train_res == 0)))"
   ]
  },
  {
   "cell_type": "code",
   "execution_count": null,
   "id": "e740c230",
   "metadata": {},
   "outputs": [],
   "source": [
    "#using smote class is balanced now."
   ]
  },
  {
   "cell_type": "code",
   "execution_count": null,
   "id": "7be84476",
   "metadata": {},
   "outputs": [],
   "source": []
  },
  {
   "cell_type": "markdown",
   "id": "31cb120e",
   "metadata": {},
   "source": [
    "# Naive Bayes after Smote"
   ]
  },
  {
   "cell_type": "code",
   "execution_count": 100,
   "id": "1b7b0b19",
   "metadata": {},
   "outputs": [
    {
     "data": {
      "text/plain": [
       "MultinomialNB()"
      ]
     },
     "execution_count": 100,
     "metadata": {},
     "output_type": "execute_result"
    }
   ],
   "source": [
    "nb_model.fit(x_train_res, y_train_res)"
   ]
  },
  {
   "cell_type": "code",
   "execution_count": 101,
   "id": "1c25f0fa",
   "metadata": {},
   "outputs": [],
   "source": [
    "predn = nb_model.predict(x_test)"
   ]
  },
  {
   "cell_type": "code",
   "execution_count": 102,
   "id": "de4a7266",
   "metadata": {},
   "outputs": [],
   "source": [
    "from sklearn.metrics import confusion_matrix"
   ]
  },
  {
   "cell_type": "code",
   "execution_count": 103,
   "id": "8a9e7db8",
   "metadata": {},
   "outputs": [],
   "source": [
    "tab1 =  confusion_matrix(y_test , predn)"
   ]
  },
  {
   "cell_type": "code",
   "execution_count": 104,
   "id": "2a417917",
   "metadata": {},
   "outputs": [
    {
     "data": {
      "text/plain": [
       "array([[  684,   321,   578],\n",
       "       [  119,  8143,  4020],\n",
       "       [  605, 10170, 89051]], dtype=int64)"
      ]
     },
     "execution_count": 104,
     "metadata": {},
     "output_type": "execute_result"
    }
   ],
   "source": [
    "tab1"
   ]
  },
  {
   "cell_type": "code",
   "execution_count": 105,
   "id": "0bbe3dda",
   "metadata": {},
   "outputs": [
    {
     "data": {
      "text/plain": [
       "86.09124732828457"
      ]
     },
     "execution_count": 105,
     "metadata": {},
     "output_type": "execute_result"
    }
   ],
   "source": [
    "tab1.diagonal().sum() * 100 / tab1.sum()"
   ]
  },
  {
   "cell_type": "code",
   "execution_count": 106,
   "id": "8b178d1b",
   "metadata": {},
   "outputs": [],
   "source": [
    "from sklearn.metrics import classification_report"
   ]
  },
  {
   "cell_type": "code",
   "execution_count": 107,
   "id": "0cb43da8",
   "metadata": {},
   "outputs": [
    {
     "name": "stdout",
     "output_type": "stream",
     "text": [
      "              precision    recall  f1-score   support\n",
      "\n",
      "           0       0.49      0.43      0.46      1583\n",
      "           1       0.44      0.66      0.53     12282\n",
      "           2       0.95      0.89      0.92     99826\n",
      "\n",
      "    accuracy                           0.86    113691\n",
      "   macro avg       0.62      0.66      0.63    113691\n",
      "weighted avg       0.89      0.86      0.87    113691\n",
      "\n"
     ]
    }
   ],
   "source": [
    "print(classification_report(y_test,predn))"
   ]
  },
  {
   "cell_type": "code",
   "execution_count": null,
   "id": "213f11b8",
   "metadata": {},
   "outputs": [],
   "source": []
  },
  {
   "cell_type": "code",
   "execution_count": null,
   "id": "f5d298ea",
   "metadata": {},
   "outputs": [],
   "source": []
  },
  {
   "cell_type": "markdown",
   "id": "ca79fd9d",
   "metadata": {},
   "source": [
    "# Model with smote giving good result"
   ]
  },
  {
   "cell_type": "code",
   "execution_count": null,
   "id": "49dff754",
   "metadata": {},
   "outputs": [],
   "source": []
  },
  {
   "cell_type": "markdown",
   "id": "67c3dd69",
   "metadata": {},
   "source": [
    "# plot a word cloud "
   ]
  },
  {
   "cell_type": "code",
   "execution_count": 102,
   "id": "9e75c78c",
   "metadata": {},
   "outputs": [],
   "source": [
    "#  plot a word cloud \n",
    "# word cloud is pictorial representaion of the most frequent words \n",
    "# based on those words we can get the idea on which topic the document was\n"
   ]
  },
  {
   "cell_type": "code",
   "execution_count": 103,
   "id": "412c6480",
   "metadata": {},
   "outputs": [],
   "source": [
    "from wordcloud import WordCloud #required import"
   ]
  },
  {
   "cell_type": "code",
   "execution_count": 104,
   "id": "f57e2703",
   "metadata": {},
   "outputs": [],
   "source": [
    "import matplotlib.pyplot as plt"
   ]
  },
  {
   "cell_type": "code",
   "execution_count": 105,
   "id": "722154a9",
   "metadata": {},
   "outputs": [
    {
     "data": {
      "text/plain": [
       "2    499075\n",
       "1     61404\n",
       "0      7975\n",
       "Name: SentimentAnalysis, dtype: int64"
      ]
     },
     "execution_count": 105,
     "metadata": {},
     "output_type": "execute_result"
    }
   ],
   "source": [
    "ta['SentimentAnalysis'].value_counts()"
   ]
  },
  {
   "cell_type": "code",
   "execution_count": 107,
   "id": "bbf3b733",
   "metadata": {},
   "outputs": [],
   "source": [
    "Negative_sentiment=ta[ta.SentimentAnalysis==1]\n",
    "Positive_sentiment=ta[ta.SentimentAnalysis==2]"
   ]
  },
  {
   "cell_type": "markdown",
   "id": "d8da5069",
   "metadata": {},
   "source": [
    "# Negative Sentiment word representation using cloud word"
   ]
  },
  {
   "cell_type": "code",
   "execution_count": 110,
   "id": "a0660d7e",
   "metadata": {},
   "outputs": [
    {
     "data": {
      "text/plain": [
       "<matplotlib.image.AxesImage at 0x299347175e0>"
      ]
     },
     "execution_count": 110,
     "metadata": {},
     "output_type": "execute_result"
    },
    {
     "data": {
      "image/png": "[encoded data removed]",
      "text/plain": [
       "<Figure size 720x720 with 1 Axes>"
      ]
     },
     "metadata": {
      "needs_background": "light"
     },
     "output_type": "display_data"
    }
   ],
   "source": [
    "cloud  = WordCloud(stopwords = stopwords.words(\"english\"), max_words= 10).generate(str(Negative_sentiment[\"Text\"]) )\n",
    "plt.figure(figsize=(10 , 10)) \n",
    "plt.imshow(cloud)"
   ]
  },
  {
   "cell_type": "markdown",
   "id": "70221a31",
   "metadata": {},
   "source": [
    "# Positive Sentiment word representation using cloud word"
   ]
  },
  {
   "cell_type": "code",
   "execution_count": 111,
   "id": "ad960f80",
   "metadata": {},
   "outputs": [
    {
     "data": {
      "text/plain": [
       "<matplotlib.image.AxesImage at 0x29934791160>"
      ]
     },
     "execution_count": 111,
     "metadata": {},
     "output_type": "execute_result"
    },
    {
     "data": {
      "image/png": "[encoded data removed]",
      "text/plain": [
       "<Figure size 720x720 with 1 Axes>"
      ]
     },
     "metadata": {
      "needs_background": "light"
     },
     "output_type": "display_data"
    }
   ],
   "source": [
    "cloud  = WordCloud(stopwords = stopwords.words(\"english\"), max_words= 10).generate(str(Positive_sentiment[\"Text\"]) )\n",
    "plt.figure(figsize=(10 , 10)) \n",
    "plt.imshow(cloud)"
   ]
  },
  {
   "cell_type": "code",
   "execution_count": null,
   "id": "cc43ca48",
   "metadata": {},
   "outputs": [],
   "source": []
  }
 ],
 "metadata": {
  "kernelspec": {
   "display_name": "Python 3 (ipykernel)",
   "language": "python",
   "name": "python3"
  },
  "language_info": {
   "codemirror_mode": {
    "name": "ipython",
    "version": 3
   },
   "file_extension": ".py",
   "mimetype": "text/x-python",
   "name": "python",
   "nbconvert_exporter": "python",
   "pygments_lexer": "ipython3",
   "version": "3.9.12"
  }
 },
 "nbformat": 4,
 "nbformat_minor": 5
}
